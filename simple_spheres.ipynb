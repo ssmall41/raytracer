{
 "cells": [
  {
   "cell_type": "code",
   "execution_count": null,
   "metadata": {},
   "outputs": [],
   "source": [
    "import pycuda.autoinit\n",
    "import numpy as np\n",
    "from pycuda import gpuarray\n",
    "import pycuda.driver as drv\n",
    "import pandas as pd\n",
    "from pycuda.compiler import SourceModule\n",
    "import cv2"
   ]
  },
  {
   "cell_type": "code",
   "execution_count": null,
   "metadata": {},
   "outputs": [],
   "source": [
    "# Compile cuda code\n",
    "module = SourceModule(open(\"kernels_simple_spheres.cu\", \"r\").read())\n",
    "kernel_simple_spheres = module.get_function(\"simple_spheres\")"
   ]
  },
  {
   "cell_type": "code",
   "execution_count": null,
   "metadata": {},
   "outputs": [],
   "source": [
    "# Define spheres\n",
    "spheres_coord = np.array([[100, 300, 10],\n",
    "                           [200, 30, 30]], dtype=np.float32)\n",
    "spheres_radius = np.array([50, 50], dtype=np.float32)\n",
    "spheres_color = np.array([[255, 0, 0],\n",
    "                          [0, 0, 255]], dtype=np.float32)\n",
    "n_spheres = len(spheres_coord)\n",
    "\n",
    "spheres_coord_gpu = gpuarray.to_gpu(spheres_coord)\n",
    "spheres_radius_gpu = gpuarray.to_gpu(spheres_radius)\n",
    "spheres_color_gpu = gpuarray.to_gpu(spheres_color)"
   ]
  },
  {
   "cell_type": "code",
   "execution_count": null,
   "metadata": {},
   "outputs": [],
   "source": [
    "# Define image\n",
    "dim = 512\n",
    "bitmap = np.zeros((dim, dim, 3), dtype=np.int32)\n",
    "bitmap_gpu = gpuarray.to_gpu(bitmap)"
   ]
  },
  {
   "cell_type": "code",
   "execution_count": null,
   "metadata": {},
   "outputs": [],
   "source": [
    "# Calculate the bitmap\n",
    "grid_size = 16\n",
    "block = (dim//grid_size, dim//grid_size, 1)\n",
    "grid = (grid_size, grid_size)\n",
    "\n",
    "kernel_simple_spheres(bitmap_gpu, spheres_coord_gpu, spheres_radius_gpu, spheres_color_gpu,\n",
    "                      np.int32(dim), np.int32(n_spheres),\n",
    "                      block=block,\n",
    "                      grid=grid)"
   ]
  },
  {
   "cell_type": "code",
   "execution_count": null,
   "metadata": {},
   "outputs": [],
   "source": [
    "image = cv2.cvtColor(bitmap_gpu.get().astype(np.uint8), cv2.COLOR_RGB2BGR)\n",
    "cv2.imwrite('color_img.jpg', image)"
   ]
  },
  {
   "cell_type": "code",
   "execution_count": null,
   "metadata": {},
   "outputs": [],
   "source": []
  }
 ],
 "metadata": {
  "kernelspec": {
   "display_name": "Python 3",
   "language": "python",
   "name": "python3"
  },
  "language_info": {
   "codemirror_mode": {
    "name": "ipython",
    "version": 3
   },
   "file_extension": ".py",
   "mimetype": "text/x-python",
   "name": "python",
   "nbconvert_exporter": "python",
   "pygments_lexer": "ipython3",
   "version": "3.8.5"
  }
 },
 "nbformat": 4,
 "nbformat_minor": 4
}
