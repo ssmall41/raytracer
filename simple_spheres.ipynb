{
 "cells": [
  {
   "cell_type": "code",
   "execution_count": null,
   "metadata": {},
   "outputs": [],
   "source": [
    "import pycuda.autoinit\n",
    "import numpy as np\n",
    "from pycuda import gpuarray\n",
    "import pycuda.driver as drv\n",
    "import pandas as pd\n",
    "from pycuda.compiler import SourceModule\n",
    "import cv2\n",
    "import itertools"
   ]
  },
  {
   "cell_type": "code",
   "execution_count": null,
   "metadata": {
    "scrolled": true
   },
   "outputs": [],
   "source": [
    "# Compile cuda code\n",
    "module = SourceModule(open(\"kernels_raytracer.cu\", \"r\").read())\n",
    "kernel_draw_scene = module.get_function(\"draw_scene\")"
   ]
  },
  {
   "cell_type": "code",
   "execution_count": null,
   "metadata": {},
   "outputs": [],
   "source": [
    "kernel_hello = module.get_function(\"hello_world\")\n",
    "grid_size = 1\n",
    "block = (1, 1, 1)\n",
    "grid = (grid_size, grid_size)\n",
    "kernel_hello(block=block, grid=grid)"
   ]
  },
  {
   "cell_type": "code",
   "execution_count": null,
   "metadata": {},
   "outputs": [],
   "source": [
    "# !!!! This is stolen! Consider rewritting. !!!!\n",
    "def stack_padding(it):\n",
    "\n",
    "    def resize(row, size):\n",
    "        new = np.array(row)\n",
    "        new.resize((len(row), size))\n",
    "        return new\n",
    "\n",
    "    row_length = max([x.shape[1] for x in it])\n",
    "    return np.concatenate( [resize(row, row_length) for row in it] )"
   ]
  },
  {
   "cell_type": "code",
   "execution_count": null,
   "metadata": {},
   "outputs": [],
   "source": [
    "# Define spheres\n",
    "# Format is x,y,z,radius,r,g,b\n",
    "spheres_params = np.array([[1, 0, 0, 100, 300, 10, 50],\n",
    "                           [0, 0, 1, 200, 30, 30, 50]], dtype=np.float32)\n",
    "n_spheres = len(spheres_params)\n",
    "param_size_sphere = spheres_params[0].nbytes\n",
    "#spheres_params_gpu = gpuarray.to_gpu(spheres_params)"
   ]
  },
  {
   "cell_type": "code",
   "execution_count": null,
   "metadata": {},
   "outputs": [],
   "source": [
    "# Combine object types\n",
    "n_types = 1\n",
    "\n",
    "object_params = stack_padding([spheres_params])\n",
    "#object_params = np.array([np.uintp(spheres_params_gpu.ptr)], dtype=np.uintp)\n",
    "object_params_gpu = gpuarray.to_gpu(object_params)\n",
    "\n",
    "num_objs = np.array([n_spheres], dtype=np.int32)\n",
    "num_objs_gpu = gpuarray.to_gpu(num_objs)\n",
    "\n",
    "n_params = object_params.shape[1]\n",
    "#param_size = np.array([param_size_sphere], dtype=np.int32)\n",
    "#param_size_gpu = gpuarray.to_gpu(param_size)"
   ]
  },
  {
   "cell_type": "code",
   "execution_count": null,
   "metadata": {},
   "outputs": [],
   "source": [
    "# Define image\n",
    "dim = 512\n",
    "#dim = 4\n",
    "bitmap = np.zeros((dim, dim, 3), dtype=np.int32)\n",
    "bitmap_gpu = gpuarray.to_gpu(bitmap)"
   ]
  },
  {
   "cell_type": "code",
   "execution_count": null,
   "metadata": {},
   "outputs": [],
   "source": [
    "# Calculate the bitmap\n",
    "grid_size = 16\n",
    "#grid_size = 4\n",
    "block = (dim//grid_size, dim//grid_size, 1)\n",
    "grid = (grid_size, grid_size)\n",
    "\n",
    "kernel_draw_scene(bitmap_gpu, \n",
    "                  np.int32(dim), \n",
    "                  object_params_gpu,\n",
    "                  num_objs_gpu,\n",
    "                  np.int32(n_params),\n",
    "                  np.int32(n_types),\n",
    "                  block=block,\n",
    "                  grid=grid)"
   ]
  },
  {
   "cell_type": "code",
   "execution_count": null,
   "metadata": {},
   "outputs": [],
   "source": [
    "image = cv2.cvtColor(bitmap_gpu.get().astype(np.uint8), cv2.COLOR_RGB2BGR)\n",
    "cv2.imwrite('color_img.jpg', image)"
   ]
  },
  {
   "cell_type": "code",
   "execution_count": null,
   "metadata": {},
   "outputs": [],
   "source": []
  }
 ],
 "metadata": {
  "kernelspec": {
   "display_name": "Python 3",
   "language": "python",
   "name": "python3"
  },
  "language_info": {
   "codemirror_mode": {
    "name": "ipython",
    "version": 3
   },
   "file_extension": ".py",
   "mimetype": "text/x-python",
   "name": "python",
   "nbconvert_exporter": "python",
   "pygments_lexer": "ipython3",
   "version": "3.8.5"
  }
 },
 "nbformat": 4,
 "nbformat_minor": 4
}
