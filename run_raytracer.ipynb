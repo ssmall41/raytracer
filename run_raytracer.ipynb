{
 "cells": [
  {
   "cell_type": "markdown",
   "metadata": {},
   "source": [
    "## Clean up ideas\n",
    "* Colors should be 255 based?\n",
    "* Would be nice to automatically normalize vectors.\n",
    "* Are there any issues with publishing the teapot wavefront?\n",
    "* Constant arrays in the cuda code?"
   ]
  },
  {
   "cell_type": "code",
   "execution_count": null,
   "metadata": {},
   "outputs": [],
   "source": [
    "import pycuda.autoinit\n",
    "import numpy as np\n",
    "from pycuda import gpuarray\n",
    "import pycuda.driver as drv\n",
    "from pycuda.compiler import SourceModule\n",
    "import cv2\n",
    "import itertools\n",
    "import pywavefront"
   ]
  },
  {
   "cell_type": "code",
   "execution_count": null,
   "metadata": {
    "scrolled": true
   },
   "outputs": [],
   "source": [
    "# Compile cuda code\n",
    "module = SourceModule(open(\"kernels_raytracer.cu\", \"r\").read())\n",
    "kernel_draw_scene = module.get_function(\"draw_scene\")"
   ]
  },
  {
   "cell_type": "code",
   "execution_count": null,
   "metadata": {},
   "outputs": [],
   "source": [
    "def stack_padding(it):\n",
    "\n",
    "    def resize(row, size):\n",
    "        increase = size-row.shape[1]\n",
    "        \n",
    "        if increase > 0:\n",
    "            new = np.zeros((row.shape[0], size))\n",
    "            new[:, :-increase] = row\n",
    "            return new\n",
    "        else:\n",
    "            return row\n",
    "\n",
    "    # Remove empty lists\n",
    "    it_full = [x for x in it if len(x)>0]\n",
    "        \n",
    "    row_length = max([x.shape[1] for x in it_full])\n",
    "    return np.concatenate( [resize(row, row_length) for row in it_full] ).astype(np.float32)"
   ]
  },
  {
   "cell_type": "code",
   "execution_count": null,
   "metadata": {},
   "outputs": [],
   "source": [
    "def load_obj(filename, color, scale, center):\n",
    "    \n",
    "    scene = pywavefront.Wavefront(\"teapot.obj\", collect_faces=True)\n",
    "    color = np.array([0.6, 0.6, 0.6], dtype=np.float32)\n",
    "    \n",
    "    center_np = np.array(center + center + center, dtype=np.float32)\n",
    "    scale_np = np.array(scale + scale + scale, dtype=np.float32)\n",
    "    \n",
    "    triangles = []\n",
    "    for face in scene.mesh_list[0].faces:\n",
    "        vertices = np.array([scene.vertices[i] for i in face], dtype=np.float32).reshape(9,)\n",
    "        triangles.append(np.concatenate([color, scale_np*vertices+center_np]))\n",
    "    triangles = np.array(triangles, dtype=np.float32)\n",
    "    \n",
    "    return triangles"
   ]
  },
  {
   "cell_type": "code",
   "execution_count": null,
   "metadata": {},
   "outputs": [],
   "source": [
    "# Define spheres\n",
    "# Format is r,g,b,x,y,z,radius\n",
    "\n",
    "#spheres_params = np.array([[1, 0, 0, 10, 10, 20, 10]], dtype=np.float32)\n",
    "#spheres_params = np.array([[1, 0, 0, 100, 100, 100, 50],\n",
    "#                           [0, 1, 0, 120, 100, 100, 50]], dtype=np.float32)\n",
    "\n",
    "#spheres_params = np.array([], dtype=np.float32)\n",
    "\n",
    "# Irina's version\n",
    "spheres_params = np.array([[1, 0, 0, 200, 200, 100, 50],\n",
    "                           [0, 0.5, 1, 200, 30, 300, 50],\n",
    "                           [0.5, 0, 0, 400, 350, -60, 20],\n",
    "                           [1, 1, 1, 350, 350, 800, 20],\n",
    "                           [0, 1, 0, 250, 220, 100, 30]], dtype=np.float32)\n",
    "\n",
    "# Original plan\n",
    "#spheres_params = np.array([[1, 0, 0, 100, 300, 100, 50],\n",
    "#                           [0, 0, 1, 200, 30, 300, 50],\n",
    "#                           [0.5, 0, 0, 400, 350, -60, 20],\n",
    "#                           [1, 1, 1, 350, 350, 800, 20],\n",
    "#                           [0, 1, 0, 150, 320, 100, 30]], dtype=np.float32)\n",
    "n_spheres = len(spheres_params)"
   ]
  },
  {
   "cell_type": "code",
   "execution_count": null,
   "metadata": {},
   "outputs": [],
   "source": [
    "# Define planes\n",
    "# Format is r,g,b,x,y,z,nx,ny,nz\n",
    "\n",
    "#planes_params = np.array([], np.float32)\n",
    "\n",
    "# Irina's version\n",
    "planes_params = np.array([[0.8, 0.8, 0.0, 0, 600, 0, 0, 0.97, 0.243],\n",
    "                          [0.4, 0.9, 0.7, 0, 0, 900, 0, 0, 1.0]], dtype=np.float32)\n",
    "\n",
    "# Original plan\n",
    "#planes_params = np.array([[1.0, 1.0, 0.0, 0, 600, 0, 0, 0.97, 0.243],\n",
    "#                          [0.4, 0.1, 0.6, 0, 0, 900, 0, 0, 1.0]], dtype=np.float32)\n",
    "\n",
    "n_planes = len(planes_params)"
   ]
  },
  {
   "cell_type": "code",
   "execution_count": null,
   "metadata": {},
   "outputs": [],
   "source": [
    "# Define triangles\n",
    "# Format is r, g, b, x1, y1, z1, x2, y2, z2, x3, y3, z3\n",
    "\n",
    "triangle_params = load_obj(\"teapot.obj\",\n",
    "                           color=[0.6, 0.6, 0.6],\n",
    "                           scale=[30, -30, 30],\n",
    "                           center=[150,350,500])\n",
    "\n",
    "# Original plan\n",
    "#triangle_params = np.array([[1.0, 0.5, 0.0, 250, 270, 300, \n",
    "#                             320, 300, 290, 300, 340, 295],\n",
    "#                            [1.0, 0.2, 1.0, 150, 400, 350, \n",
    "#                             50, 450, 400, 110, 800, 350]], dtype=np.float32)\n",
    "\n",
    "\n",
    "n_triangles = len(triangle_params)"
   ]
  },
  {
   "cell_type": "code",
   "execution_count": null,
   "metadata": {},
   "outputs": [],
   "source": [
    "# Define the light\n",
    "\n",
    "#light = np.array([-20, 10, 20], dtype=np.float32)\n",
    "\n",
    "# Original plan\n",
    "light = np.array([-50, 20, -100], dtype=np.float32)"
   ]
  },
  {
   "cell_type": "code",
   "execution_count": null,
   "metadata": {},
   "outputs": [],
   "source": [
    "# Combine object types\n",
    "#object_params = stack_padding([spheres_params])\n",
    "object_params = stack_padding([spheres_params, planes_params, triangle_params])\n",
    "object_params_gpu = gpuarray.to_gpu(object_params)\n",
    "\n",
    "#num_objs = np.array([n_spheres], dtype=np.int32)\n",
    "num_objs = np.array([n_spheres, n_planes, n_triangles], dtype=np.int32)\n",
    "num_objs_gpu = gpuarray.to_gpu(num_objs)\n",
    "\n",
    "print(num_objs)\n",
    "\n",
    "n_types = len(num_objs)\n",
    "n_params = object_params.shape[1]\n",
    "\n",
    "light_gpu = gpuarray.to_gpu(light)"
   ]
  },
  {
   "cell_type": "code",
   "execution_count": null,
   "metadata": {},
   "outputs": [],
   "source": [
    "# Define image\n",
    "dim = 512\n",
    "#dim = 8\n",
    "bitmap = np.zeros((dim, dim, 3), dtype=np.int32)\n",
    "bitmap_gpu = gpuarray.to_gpu(bitmap)"
   ]
  },
  {
   "cell_type": "code",
   "execution_count": null,
   "metadata": {},
   "outputs": [],
   "source": [
    "# Calculate the bitmap\n",
    "grid_size = 16\n",
    "#grid_size = 1\n",
    "block = (dim//grid_size, dim//grid_size, 1)\n",
    "grid = (grid_size, grid_size)\n",
    "\n",
    "print(block)\n",
    "print(grid)\n",
    "\n",
    "kernel_draw_scene(bitmap_gpu, \n",
    "                  np.int32(dim), \n",
    "                  object_params_gpu,\n",
    "                  num_objs_gpu,\n",
    "                  np.int32(n_params),\n",
    "                  np.int32(n_types),\n",
    "                  light_gpu,\n",
    "                  block=block,\n",
    "                  grid=grid)"
   ]
  },
  {
   "cell_type": "code",
   "execution_count": null,
   "metadata": {},
   "outputs": [],
   "source": [
    "image = cv2.cvtColor(bitmap_gpu.get().astype(np.uint8), cv2.COLOR_RGB2BGR)\n",
    "cv2.imwrite('color_img.jpg', image)"
   ]
  },
  {
   "cell_type": "code",
   "execution_count": null,
   "metadata": {},
   "outputs": [],
   "source": []
  }
 ],
 "metadata": {
  "kernelspec": {
   "display_name": "Python 3",
   "language": "python",
   "name": "python3"
  },
  "language_info": {
   "codemirror_mode": {
    "name": "ipython",
    "version": 3
   },
   "file_extension": ".py",
   "mimetype": "text/x-python",
   "name": "python",
   "nbconvert_exporter": "python",
   "pygments_lexer": "ipython3",
   "version": "3.8.5"
  }
 },
 "nbformat": 4,
 "nbformat_minor": 4
}
