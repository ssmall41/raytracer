{
 "cells": [
  {
   "cell_type": "markdown",
   "metadata": {},
   "source": [
    "## Clean up ideas\n",
    "* Make sure stack_paddding is understandable and doesn't look borrowed.\n",
    "* Colors should be 255 based.\n",
    "* Would be nice to automatically normalize vectors."
   ]
  },
  {
   "cell_type": "code",
   "execution_count": null,
   "metadata": {},
   "outputs": [],
   "source": [
    "import pycuda.autoinit\n",
    "import numpy as np\n",
    "from pycuda import gpuarray\n",
    "import pycuda.driver as drv\n",
    "import pandas as pd\n",
    "from pycuda.compiler import SourceModule\n",
    "import cv2\n",
    "import itertools"
   ]
  },
  {
   "cell_type": "code",
   "execution_count": null,
   "metadata": {
    "scrolled": true
   },
   "outputs": [],
   "source": [
    "# Compile cuda code\n",
    "module = SourceModule(open(\"kernels_raytracer.cu\", \"r\").read())\n",
    "kernel_draw_scene = module.get_function(\"draw_scene\")"
   ]
  },
  {
   "cell_type": "code",
   "execution_count": null,
   "metadata": {},
   "outputs": [],
   "source": [
    "kernel_hello = module.get_function(\"hello_world\")\n",
    "grid_size = 1\n",
    "block = (1, 1, 1)\n",
    "grid = (grid_size, grid_size)\n",
    "kernel_hello(block=block, grid=grid)"
   ]
  },
  {
   "cell_type": "code",
   "execution_count": null,
   "metadata": {},
   "outputs": [],
   "source": [
    "def stack_padding(it):\n",
    "\n",
    "    def resize(row, size):\n",
    "        increase = size-row.shape[1]\n",
    "        \n",
    "        if increase > 0:\n",
    "            new = np.zeros((row.shape[0], size))\n",
    "            new[:, :-increase] = row\n",
    "            return new\n",
    "        else:\n",
    "            return row\n",
    "\n",
    "    # Remove empty lists\n",
    "    it_full = [x for x in it if len(x)>0]\n",
    "        \n",
    "    row_length = max([x.shape[1] for x in it_full])\n",
    "    return np.concatenate( [resize(row, row_length) for row in it_full] ).astype(np.float32)"
   ]
  },
  {
   "cell_type": "code",
   "execution_count": null,
   "metadata": {},
   "outputs": [],
   "source": [
    "# Define spheres\n",
    "# Format is r,g,b,x,y,z,radius\n",
    "\n",
    "#spheres_params = np.array([[1, 0, 0, 0, 0, 10, 50]], dtype=np.float32)\n",
    "#spheres_params = np.array([[1, 0, 0, 100, 100, 100, 50],\n",
    "#                           [0, 1, 0, 120, 100, 100, 50]], dtype=np.float32)\n",
    "\n",
    "#spheres_params = np.array([], dtype=np.float32)\n",
    "\n",
    "# Original plan\n",
    "spheres_params = np.array([[1, 0, 0, 100, 300, 100, 50],\n",
    "                           [0, 0, 1, 200, 30, 300, 50],\n",
    "                           [0.5, 0, 0, 400, 350, -60, 20],\n",
    "                           [1, 1, 1, 250, 250, 10000, 40],\n",
    "                           [0, 1, 0, 150, 320, 100, 30]], dtype=np.float32)\n",
    "n_spheres = len(spheres_params)"
   ]
  },
  {
   "cell_type": "code",
   "execution_count": null,
   "metadata": {},
   "outputs": [],
   "source": [
    "# Define planes\n",
    "# Format is r,g,b,x,y,z,nx,ny,nz\n",
    "\n",
    "#planes_params = np.array([], np.float32)\n",
    "\n",
    "# Original plan\n",
    "planes_params = np.array([[1.0, 1.0, 0.0, 0, 600, 0, 0, 0.097, 0.0243],\n",
    "                          [1.0, 0.0, 1.0, 0, 0, 900, 0, 0, 1.0]], dtype=np.float32)\n",
    "\n",
    "n_planes = len(planes_params)"
   ]
  },
  {
   "cell_type": "code",
   "execution_count": null,
   "metadata": {},
   "outputs": [],
   "source": [
    "# Combine object types\n",
    "#object_params = stack_padding([spheres_params])\n",
    "object_params = stack_padding([spheres_params, planes_params])\n",
    "object_params_gpu = gpuarray.to_gpu(object_params)\n",
    "\n",
    "#num_objs = np.array([n_spheres], dtype=np.int32)\n",
    "num_objs = np.array([n_spheres, n_planes], dtype=np.int32)\n",
    "num_objs_gpu = gpuarray.to_gpu(num_objs)\n",
    "\n",
    "n_types = len(num_objs)\n",
    "n_params = object_params.shape[1]\n",
    "print(n_params)"
   ]
  },
  {
   "cell_type": "code",
   "execution_count": null,
   "metadata": {},
   "outputs": [],
   "source": [
    "# Define image\n",
    "dim = 512\n",
    "#dim = 128\n",
    "bitmap = np.zeros((dim, dim, 3), dtype=np.int32)\n",
    "bitmap_gpu = gpuarray.to_gpu(bitmap)"
   ]
  },
  {
   "cell_type": "code",
   "execution_count": null,
   "metadata": {},
   "outputs": [],
   "source": [
    "# Calculate the bitmap\n",
    "grid_size = 16\n",
    "#grid_size = 4\n",
    "block = (dim//grid_size, dim//grid_size, 1)\n",
    "grid = (grid_size, grid_size)\n",
    "\n",
    "print(block)\n",
    "print(grid)\n",
    "\n",
    "kernel_draw_scene(bitmap_gpu, \n",
    "                  np.int32(dim), \n",
    "                  object_params_gpu,\n",
    "                  num_objs_gpu,\n",
    "                  np.int32(n_params),\n",
    "                  np.int32(n_types),\n",
    "                  block=block,\n",
    "                  grid=grid)"
   ]
  },
  {
   "cell_type": "code",
   "execution_count": null,
   "metadata": {},
   "outputs": [],
   "source": [
    "image = cv2.cvtColor(bitmap_gpu.get().astype(np.uint8), cv2.COLOR_RGB2BGR)\n",
    "cv2.imwrite('color_img.jpg', image)"
   ]
  },
  {
   "cell_type": "code",
   "execution_count": null,
   "metadata": {},
   "outputs": [],
   "source": []
  }
 ],
 "metadata": {
  "kernelspec": {
   "display_name": "Python 3",
   "language": "python",
   "name": "python3"
  },
  "language_info": {
   "codemirror_mode": {
    "name": "ipython",
    "version": 3
   },
   "file_extension": ".py",
   "mimetype": "text/x-python",
   "name": "python",
   "nbconvert_exporter": "python",
   "pygments_lexer": "ipython3",
   "version": "3.8.5"
  }
 },
 "nbformat": 4,
 "nbformat_minor": 4
}
